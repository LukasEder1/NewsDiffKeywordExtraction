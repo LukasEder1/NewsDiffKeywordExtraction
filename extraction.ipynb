{
 "cells": [
  {
   "cell_type": "code",
   "execution_count": 1,
   "id": "dfb563b0",
   "metadata": {},
   "outputs": [],
   "source": [
    "import sqlite3\n",
    "import pandas as pd\n",
    "from news_processing import *\n",
    "from keyword_extraction import *\n",
    "from sklearn.metrics.pairwise import cosine_similarity\n",
    "from sentence_transformers import SentenceTransformer"
   ]
  },
  {
   "cell_type": "code",
   "execution_count": 2,
   "id": "eb28bb12",
   "metadata": {},
   "outputs": [],
   "source": [
    "conn = sqlite3.connect('ap-matched-sentences.db')\n",
    "connection =sqlite3.connect('bbc.db')\n",
    "pd.options.display.max_colwidth = 500"
   ]
  },
  {
   "cell_type": "code",
   "execution_count": 3,
   "id": "dda872b1",
   "metadata": {},
   "outputs": [
    {
     "data": {
      "text/plain": [
       "0    http://www.bbc.co.uk/news/uk-38659120\n",
       "Name: url, dtype: object"
      ]
     },
     "execution_count": 3,
     "metadata": {},
     "output_type": "execute_result"
    }
   ],
   "source": [
    "article_id = 2\n",
    "get_url(article_id, connection)"
   ]
  },
  {
   "cell_type": "code",
   "execution_count": 4,
   "id": "0f2b02df",
   "metadata": {},
   "outputs": [
    {
     "name": "stdout",
     "output_type": "stream",
     "text": [
      "Available versions: {0.0, 1.0, 2.0, 3.0}\n",
      "\n"
     ]
    },
    {
     "data": {
      "text/plain": [
       "0    http://www.bbc.co.uk/news/world-us-canada-38659068\n",
       "Name: url, dtype: object"
      ]
     },
     "execution_count": 4,
     "metadata": {},
     "output_type": "execute_result"
    }
   ],
   "source": [
    "data = create_data(article_id, conn)\n",
    "versions = get_versions(data)\n",
    "print(f\"Available versions: {versions}\\n\")\n",
    "documents = get_documents(data)\n",
    "get_url(1, connection)\n",
    "#print(f\"Article version 0: {documents[0]}\")"
   ]
  },
  {
   "cell_type": "markdown",
   "id": "f8f6d6d2",
   "metadata": {},
   "source": [
    "## Available Extraction Methods in PKE\n",
    "pke.unsupervised.\n",
    "'FirstPhrases',\n",
    " 'KPMiner',\n",
    " 'MultipartiteRank',\n",
    " 'PositionRank',\n",
    " 'SingleRank',\n",
    " 'TextRank',\n",
    " 'TfIdf',\n",
    " 'TopicRank',\n",
    " 'TopicalPageRank',\n",
    " 'YAKE'"
   ]
  },
  {
   "cell_type": "code",
   "execution_count": 5,
   "id": "bbb610b7",
   "metadata": {},
   "outputs": [],
   "source": [
    "#keywords_pke = extract(documents, extractor=pke.unsupervised.YAKE) # pke, version"
   ]
  },
  {
   "cell_type": "markdown",
   "id": "7b090917",
   "metadata": {},
   "source": [
    "## Visualize Keywords using YAKE!"
   ]
  },
  {
   "cell_type": "code",
   "execution_count": 6,
   "id": "5e51944d",
   "metadata": {},
   "outputs": [],
   "source": [
    "#print_keywords(keywords_pke)"
   ]
  },
  {
   "cell_type": "code",
   "execution_count": 7,
   "id": "57fc501b",
   "metadata": {},
   "outputs": [],
   "source": [
    "#keyword_summary(keywords_pke)"
   ]
  },
  {
   "cell_type": "markdown",
   "id": "1bd95214",
   "metadata": {},
   "source": [
    "## KEYBERT Extraction"
   ]
  },
  {
   "cell_type": "code",
   "execution_count": 8,
   "id": "aa791752",
   "metadata": {},
   "outputs": [],
   "source": [
    "keywords_bert = keybert(documents, use_mmr=True, diversity=0.7, ngram_range=(1,2))"
   ]
  },
  {
   "cell_type": "markdown",
   "id": "444d0d4d",
   "metadata": {},
   "source": [
    "## Visualize Keywords using KEYBERT"
   ]
  },
  {
   "cell_type": "code",
   "execution_count": 9,
   "id": "b4c6fbb5",
   "metadata": {},
   "outputs": [
    {
     "name": "stdout",
     "output_type": "stream",
     "text": [
      "Version: 0\n",
      "('trump tone', 0.58)\n",
      "('bucking tradition', 0.3895)\n",
      "('inaugural address', 0.2492)\n",
      "('shut down', 0.1668)\n",
      "('coming due', 0.1406)\n",
      "\n",
      "\n",
      "Version: 1\n",
      "('trump tone', 0.58)\n",
      "('bucking tradition', 0.3895)\n",
      "('inaugural address', 0.2492)\n",
      "('shut down', 0.1668)\n",
      "('wednesday estimating', 0.018)\n",
      "\n",
      "\n",
      "Version: 2\n",
      "('trump tone', 0.5721)\n",
      "('bucking tradition', 0.3863)\n",
      "('first inaugural', 0.3272)\n",
      "('shut down', 0.16)\n",
      "('wednesday estimating', 0.022)\n",
      "\n",
      "\n",
      "Version: 3\n",
      "('bless america', 0.5844)\n",
      "('justice roberts', 0.3665)\n",
      "('form new', 0.1844)\n",
      "('decay we', 0.1752)\n",
      "('transferring power', 0.1656)\n",
      "\n",
      "\n"
     ]
    }
   ],
   "source": [
    "print_keywords(keywords_bert)"
   ]
  },
  {
   "cell_type": "code",
   "execution_count": 10,
   "id": "61885fcc",
   "metadata": {},
   "outputs": [
    {
     "name": "stdout",
     "output_type": "stream",
     "text": [
      "Comparision between keywords of version 0 and version 1\n",
      "Only in version 0: ['coming due']\n",
      "In Both versions:\n",
      "Version 0: [('trump tone', 0.58), ('bucking tradition', 0.3895), ('inaugural address', 0.2492), ('shut down', 0.1668)]\n",
      "Version 1: [('trump tone', 0.58), ('bucking tradition', 0.3895), ('inaugural address', 0.2492), ('shut down', 0.1668)]\n",
      "Only in version 1: ['wednesday estimating']\n",
      "\n",
      "\n",
      "Comparision between keywords of version 0 and version 2\n",
      "Only in version 0: ['coming due', 'inaugural address']\n",
      "In Both versions:\n",
      "Version 0: [('trump tone', 0.58), ('bucking tradition', 0.3895), ('shut down', 0.1668)]\n",
      "Version 2: [('trump tone', 0.5721), ('bucking tradition', 0.3863), ('shut down', 0.16)]\n",
      "Only in version 2: ['first inaugural', 'wednesday estimating']\n",
      "\n",
      "\n",
      "Comparision between keywords of version 0 and version 3\n",
      "Only in version 0: ['shut down', 'coming due', 'inaugural address', 'trump tone', 'bucking tradition']\n",
      "In Both versions:\n",
      "Version 0: []\n",
      "Version 3: []\n",
      "Only in version 3: ['form new', 'transferring power', 'bless america', 'decay we', 'justice roberts']\n",
      "\n",
      "\n",
      "Comparision between keywords of version 1 and version 2\n",
      "Only in version 1: ['inaugural address']\n",
      "In Both versions:\n",
      "Version 1: [('trump tone', 0.58), ('bucking tradition', 0.3895), ('shut down', 0.1668), ('wednesday estimating', 0.018)]\n",
      "Version 2: [('trump tone', 0.5721), ('bucking tradition', 0.3863), ('shut down', 0.16), ('wednesday estimating', 0.022)]\n",
      "Only in version 2: ['first inaugural']\n",
      "\n",
      "\n",
      "Comparision between keywords of version 1 and version 3\n",
      "Only in version 1: ['shut down', 'inaugural address', 'trump tone', 'bucking tradition', 'wednesday estimating']\n",
      "In Both versions:\n",
      "Version 1: []\n",
      "Version 3: []\n",
      "Only in version 3: ['form new', 'transferring power', 'bless america', 'decay we', 'justice roberts']\n",
      "\n",
      "\n",
      "Comparision between keywords of version 2 and version 3\n",
      "Only in version 2: ['shut down', 'first inaugural', 'trump tone', 'bucking tradition', 'wednesday estimating']\n",
      "In Both versions:\n",
      "Version 2: []\n",
      "Version 3: []\n",
      "Only in version 3: ['form new', 'transferring power', 'bless america', 'decay we', 'justice roberts']\n",
      "\n",
      "\n"
     ]
    }
   ],
   "source": [
    "keyword_summary(keywords_bert)"
   ]
  },
  {
   "cell_type": "markdown",
   "id": "cdfaefe5",
   "metadata": {},
   "source": [
    "## Use BERT Embeddings to compare Keywords"
   ]
  },
  {
   "cell_type": "code",
   "execution_count": 11,
   "id": "7f1665dd",
   "metadata": {},
   "outputs": [],
   "source": [
    "bert_embeddings = create_embeddings(keywords_bert)"
   ]
  },
  {
   "cell_type": "code",
   "execution_count": 12,
   "id": "2460dcd5",
   "metadata": {},
   "outputs": [
    {
     "data": {
      "text/html": [
       "<style  type=\"text/css\" >\n",
       "</style><table id=\"T_33a36826_5452_11ed_8193_3800253292a9\" style='display:inline'><caption>Cosinus Similarity Matrix between Versions 0 and 1</caption><thead>    <tr>        <th class=\"blank level0\" ></th>        <th class=\"col_heading level0 col0\" >trump tone</th>        <th class=\"col_heading level0 col1\" >bucking tradition</th>        <th class=\"col_heading level0 col2\" >inaugural address</th>        <th class=\"col_heading level0 col3\" >shut down</th>        <th class=\"col_heading level0 col4\" >wednesday estimating</th>    </tr></thead><tbody>\n",
       "                <tr>\n",
       "                        <th id=\"T_33a36826_5452_11ed_8193_3800253292a9level0_row0\" class=\"row_heading level0 row0\" >trump tone</th>\n",
       "                        <td id=\"T_33a36826_5452_11ed_8193_3800253292a9row0_col0\" class=\"data row0 col0\" >1.000000</td>\n",
       "                        <td id=\"T_33a36826_5452_11ed_8193_3800253292a9row0_col1\" class=\"data row0 col1\" >0.565806</td>\n",
       "                        <td id=\"T_33a36826_5452_11ed_8193_3800253292a9row0_col2\" class=\"data row0 col2\" >0.513735</td>\n",
       "                        <td id=\"T_33a36826_5452_11ed_8193_3800253292a9row0_col3\" class=\"data row0 col3\" >0.454375</td>\n",
       "                        <td id=\"T_33a36826_5452_11ed_8193_3800253292a9row0_col4\" class=\"data row0 col4\" >0.328035</td>\n",
       "            </tr>\n",
       "            <tr>\n",
       "                        <th id=\"T_33a36826_5452_11ed_8193_3800253292a9level0_row1\" class=\"row_heading level0 row1\" >bucking tradition</th>\n",
       "                        <td id=\"T_33a36826_5452_11ed_8193_3800253292a9row1_col0\" class=\"data row1 col0\" >0.565806</td>\n",
       "                        <td id=\"T_33a36826_5452_11ed_8193_3800253292a9row1_col1\" class=\"data row1 col1\" >1.000000</td>\n",
       "                        <td id=\"T_33a36826_5452_11ed_8193_3800253292a9row1_col2\" class=\"data row1 col2\" >0.571679</td>\n",
       "                        <td id=\"T_33a36826_5452_11ed_8193_3800253292a9row1_col3\" class=\"data row1 col3\" >0.490045</td>\n",
       "                        <td id=\"T_33a36826_5452_11ed_8193_3800253292a9row1_col4\" class=\"data row1 col4\" >0.353853</td>\n",
       "            </tr>\n",
       "            <tr>\n",
       "                        <th id=\"T_33a36826_5452_11ed_8193_3800253292a9level0_row2\" class=\"row_heading level0 row2\" >inaugural address</th>\n",
       "                        <td id=\"T_33a36826_5452_11ed_8193_3800253292a9row2_col0\" class=\"data row2 col0\" >0.513735</td>\n",
       "                        <td id=\"T_33a36826_5452_11ed_8193_3800253292a9row2_col1\" class=\"data row2 col1\" >0.571679</td>\n",
       "                        <td id=\"T_33a36826_5452_11ed_8193_3800253292a9row2_col2\" class=\"data row2 col2\" >1.000000</td>\n",
       "                        <td id=\"T_33a36826_5452_11ed_8193_3800253292a9row2_col3\" class=\"data row2 col3\" >0.303580</td>\n",
       "                        <td id=\"T_33a36826_5452_11ed_8193_3800253292a9row2_col4\" class=\"data row2 col4\" >0.480078</td>\n",
       "            </tr>\n",
       "            <tr>\n",
       "                        <th id=\"T_33a36826_5452_11ed_8193_3800253292a9level0_row3\" class=\"row_heading level0 row3\" >shut down</th>\n",
       "                        <td id=\"T_33a36826_5452_11ed_8193_3800253292a9row3_col0\" class=\"data row3 col0\" >0.454375</td>\n",
       "                        <td id=\"T_33a36826_5452_11ed_8193_3800253292a9row3_col1\" class=\"data row3 col1\" >0.490045</td>\n",
       "                        <td id=\"T_33a36826_5452_11ed_8193_3800253292a9row3_col2\" class=\"data row3 col2\" >0.303580</td>\n",
       "                        <td id=\"T_33a36826_5452_11ed_8193_3800253292a9row3_col3\" class=\"data row3 col3\" >1.000000</td>\n",
       "                        <td id=\"T_33a36826_5452_11ed_8193_3800253292a9row3_col4\" class=\"data row3 col4\" >0.424268</td>\n",
       "            </tr>\n",
       "            <tr>\n",
       "                        <th id=\"T_33a36826_5452_11ed_8193_3800253292a9level0_row4\" class=\"row_heading level0 row4\" >coming due</th>\n",
       "                        <td id=\"T_33a36826_5452_11ed_8193_3800253292a9row4_col0\" class=\"data row4 col0\" >0.563582</td>\n",
       "                        <td id=\"T_33a36826_5452_11ed_8193_3800253292a9row4_col1\" class=\"data row4 col1\" >0.690563</td>\n",
       "                        <td id=\"T_33a36826_5452_11ed_8193_3800253292a9row4_col2\" class=\"data row4 col2\" >0.724129</td>\n",
       "                        <td id=\"T_33a36826_5452_11ed_8193_3800253292a9row4_col3\" class=\"data row4 col3\" >0.517427</td>\n",
       "                        <td id=\"T_33a36826_5452_11ed_8193_3800253292a9row4_col4\" class=\"data row4 col4\" >0.591712</td>\n",
       "            </tr>\n",
       "    </tbody></table>"
      ],
      "text/plain": [
       "<pandas.io.formats.style.Styler at 0x7fad1b5bc2b0>"
      ]
     },
     "metadata": {},
     "output_type": "display_data"
    },
    {
     "data": {
      "text/html": [
       "<style  type=\"text/css\" >\n",
       "</style><table id=\"T_33a36827_5452_11ed_8193_3800253292a9\" style='display:inline'><caption>Cosinus Similarity Matrix between Versions 0 and 2</caption><thead>    <tr>        <th class=\"blank level0\" ></th>        <th class=\"col_heading level0 col0\" >trump tone</th>        <th class=\"col_heading level0 col1\" >bucking tradition</th>        <th class=\"col_heading level0 col2\" >first inaugural</th>        <th class=\"col_heading level0 col3\" >shut down</th>        <th class=\"col_heading level0 col4\" >wednesday estimating</th>    </tr></thead><tbody>\n",
       "                <tr>\n",
       "                        <th id=\"T_33a36827_5452_11ed_8193_3800253292a9level0_row0\" class=\"row_heading level0 row0\" >trump tone</th>\n",
       "                        <td id=\"T_33a36827_5452_11ed_8193_3800253292a9row0_col0\" class=\"data row0 col0\" >1.000000</td>\n",
       "                        <td id=\"T_33a36827_5452_11ed_8193_3800253292a9row0_col1\" class=\"data row0 col1\" >0.565806</td>\n",
       "                        <td id=\"T_33a36827_5452_11ed_8193_3800253292a9row0_col2\" class=\"data row0 col2\" >0.360087</td>\n",
       "                        <td id=\"T_33a36827_5452_11ed_8193_3800253292a9row0_col3\" class=\"data row0 col3\" >0.454375</td>\n",
       "                        <td id=\"T_33a36827_5452_11ed_8193_3800253292a9row0_col4\" class=\"data row0 col4\" >0.328035</td>\n",
       "            </tr>\n",
       "            <tr>\n",
       "                        <th id=\"T_33a36827_5452_11ed_8193_3800253292a9level0_row1\" class=\"row_heading level0 row1\" >bucking tradition</th>\n",
       "                        <td id=\"T_33a36827_5452_11ed_8193_3800253292a9row1_col0\" class=\"data row1 col0\" >0.565806</td>\n",
       "                        <td id=\"T_33a36827_5452_11ed_8193_3800253292a9row1_col1\" class=\"data row1 col1\" >1.000000</td>\n",
       "                        <td id=\"T_33a36827_5452_11ed_8193_3800253292a9row1_col2\" class=\"data row1 col2\" >0.523467</td>\n",
       "                        <td id=\"T_33a36827_5452_11ed_8193_3800253292a9row1_col3\" class=\"data row1 col3\" >0.490045</td>\n",
       "                        <td id=\"T_33a36827_5452_11ed_8193_3800253292a9row1_col4\" class=\"data row1 col4\" >0.353853</td>\n",
       "            </tr>\n",
       "            <tr>\n",
       "                        <th id=\"T_33a36827_5452_11ed_8193_3800253292a9level0_row2\" class=\"row_heading level0 row2\" >inaugural address</th>\n",
       "                        <td id=\"T_33a36827_5452_11ed_8193_3800253292a9row2_col0\" class=\"data row2 col0\" >0.513735</td>\n",
       "                        <td id=\"T_33a36827_5452_11ed_8193_3800253292a9row2_col1\" class=\"data row2 col1\" >0.571679</td>\n",
       "                        <td id=\"T_33a36827_5452_11ed_8193_3800253292a9row2_col2\" class=\"data row2 col2\" >0.760976</td>\n",
       "                        <td id=\"T_33a36827_5452_11ed_8193_3800253292a9row2_col3\" class=\"data row2 col3\" >0.303580</td>\n",
       "                        <td id=\"T_33a36827_5452_11ed_8193_3800253292a9row2_col4\" class=\"data row2 col4\" >0.480078</td>\n",
       "            </tr>\n",
       "            <tr>\n",
       "                        <th id=\"T_33a36827_5452_11ed_8193_3800253292a9level0_row3\" class=\"row_heading level0 row3\" >shut down</th>\n",
       "                        <td id=\"T_33a36827_5452_11ed_8193_3800253292a9row3_col0\" class=\"data row3 col0\" >0.454375</td>\n",
       "                        <td id=\"T_33a36827_5452_11ed_8193_3800253292a9row3_col1\" class=\"data row3 col1\" >0.490045</td>\n",
       "                        <td id=\"T_33a36827_5452_11ed_8193_3800253292a9row3_col2\" class=\"data row3 col2\" >0.230974</td>\n",
       "                        <td id=\"T_33a36827_5452_11ed_8193_3800253292a9row3_col3\" class=\"data row3 col3\" >1.000000</td>\n",
       "                        <td id=\"T_33a36827_5452_11ed_8193_3800253292a9row3_col4\" class=\"data row3 col4\" >0.424268</td>\n",
       "            </tr>\n",
       "            <tr>\n",
       "                        <th id=\"T_33a36827_5452_11ed_8193_3800253292a9level0_row4\" class=\"row_heading level0 row4\" >coming due</th>\n",
       "                        <td id=\"T_33a36827_5452_11ed_8193_3800253292a9row4_col0\" class=\"data row4 col0\" >0.563582</td>\n",
       "                        <td id=\"T_33a36827_5452_11ed_8193_3800253292a9row4_col1\" class=\"data row4 col1\" >0.690563</td>\n",
       "                        <td id=\"T_33a36827_5452_11ed_8193_3800253292a9row4_col2\" class=\"data row4 col2\" >0.579163</td>\n",
       "                        <td id=\"T_33a36827_5452_11ed_8193_3800253292a9row4_col3\" class=\"data row4 col3\" >0.517427</td>\n",
       "                        <td id=\"T_33a36827_5452_11ed_8193_3800253292a9row4_col4\" class=\"data row4 col4\" >0.591712</td>\n",
       "            </tr>\n",
       "    </tbody></table>"
      ],
      "text/plain": [
       "<pandas.io.formats.style.Styler at 0x7fad2b92cdd8>"
      ]
     },
     "metadata": {},
     "output_type": "display_data"
    },
    {
     "data": {
      "text/html": [
       "<style  type=\"text/css\" >\n",
       "</style><table id=\"T_33a36828_5452_11ed_8193_3800253292a9\" style='display:inline'><caption>Cosinus Similarity Matrix between Versions 0 and 3</caption><thead>    <tr>        <th class=\"blank level0\" ></th>        <th class=\"col_heading level0 col0\" >bless america</th>        <th class=\"col_heading level0 col1\" >justice roberts</th>        <th class=\"col_heading level0 col2\" >form new</th>        <th class=\"col_heading level0 col3\" >decay we</th>        <th class=\"col_heading level0 col4\" >transferring power</th>    </tr></thead><tbody>\n",
       "                <tr>\n",
       "                        <th id=\"T_33a36828_5452_11ed_8193_3800253292a9level0_row0\" class=\"row_heading level0 row0\" >trump tone</th>\n",
       "                        <td id=\"T_33a36828_5452_11ed_8193_3800253292a9row0_col0\" class=\"data row0 col0\" >0.665505</td>\n",
       "                        <td id=\"T_33a36828_5452_11ed_8193_3800253292a9row0_col1\" class=\"data row0 col1\" >0.509182</td>\n",
       "                        <td id=\"T_33a36828_5452_11ed_8193_3800253292a9row0_col2\" class=\"data row0 col2\" >0.445967</td>\n",
       "                        <td id=\"T_33a36828_5452_11ed_8193_3800253292a9row0_col3\" class=\"data row0 col3\" >0.517913</td>\n",
       "                        <td id=\"T_33a36828_5452_11ed_8193_3800253292a9row0_col4\" class=\"data row0 col4\" >0.532147</td>\n",
       "            </tr>\n",
       "            <tr>\n",
       "                        <th id=\"T_33a36828_5452_11ed_8193_3800253292a9level0_row1\" class=\"row_heading level0 row1\" >bucking tradition</th>\n",
       "                        <td id=\"T_33a36828_5452_11ed_8193_3800253292a9row1_col0\" class=\"data row1 col0\" >0.470234</td>\n",
       "                        <td id=\"T_33a36828_5452_11ed_8193_3800253292a9row1_col1\" class=\"data row1 col1\" >0.532236</td>\n",
       "                        <td id=\"T_33a36828_5452_11ed_8193_3800253292a9row1_col2\" class=\"data row1 col2\" >0.500318</td>\n",
       "                        <td id=\"T_33a36828_5452_11ed_8193_3800253292a9row1_col3\" class=\"data row1 col3\" >0.610615</td>\n",
       "                        <td id=\"T_33a36828_5452_11ed_8193_3800253292a9row1_col4\" class=\"data row1 col4\" >0.687522</td>\n",
       "            </tr>\n",
       "            <tr>\n",
       "                        <th id=\"T_33a36828_5452_11ed_8193_3800253292a9level0_row2\" class=\"row_heading level0 row2\" >inaugural address</th>\n",
       "                        <td id=\"T_33a36828_5452_11ed_8193_3800253292a9row2_col0\" class=\"data row2 col0\" >0.544169</td>\n",
       "                        <td id=\"T_33a36828_5452_11ed_8193_3800253292a9row2_col1\" class=\"data row2 col1\" >0.531338</td>\n",
       "                        <td id=\"T_33a36828_5452_11ed_8193_3800253292a9row2_col2\" class=\"data row2 col2\" >0.629482</td>\n",
       "                        <td id=\"T_33a36828_5452_11ed_8193_3800253292a9row2_col3\" class=\"data row2 col3\" >0.419439</td>\n",
       "                        <td id=\"T_33a36828_5452_11ed_8193_3800253292a9row2_col4\" class=\"data row2 col4\" >0.521590</td>\n",
       "            </tr>\n",
       "            <tr>\n",
       "                        <th id=\"T_33a36828_5452_11ed_8193_3800253292a9level0_row3\" class=\"row_heading level0 row3\" >shut down</th>\n",
       "                        <td id=\"T_33a36828_5452_11ed_8193_3800253292a9row3_col0\" class=\"data row3 col0\" >0.351418</td>\n",
       "                        <td id=\"T_33a36828_5452_11ed_8193_3800253292a9row3_col1\" class=\"data row3 col1\" >0.446640</td>\n",
       "                        <td id=\"T_33a36828_5452_11ed_8193_3800253292a9row3_col2\" class=\"data row3 col2\" >0.417822</td>\n",
       "                        <td id=\"T_33a36828_5452_11ed_8193_3800253292a9row3_col3\" class=\"data row3 col3\" >0.827730</td>\n",
       "                        <td id=\"T_33a36828_5452_11ed_8193_3800253292a9row3_col4\" class=\"data row3 col4\" >0.556115</td>\n",
       "            </tr>\n",
       "            <tr>\n",
       "                        <th id=\"T_33a36828_5452_11ed_8193_3800253292a9level0_row4\" class=\"row_heading level0 row4\" >coming due</th>\n",
       "                        <td id=\"T_33a36828_5452_11ed_8193_3800253292a9row4_col0\" class=\"data row4 col0\" >0.552774</td>\n",
       "                        <td id=\"T_33a36828_5452_11ed_8193_3800253292a9row4_col1\" class=\"data row4 col1\" >0.525605</td>\n",
       "                        <td id=\"T_33a36828_5452_11ed_8193_3800253292a9row4_col2\" class=\"data row4 col2\" >0.717332</td>\n",
       "                        <td id=\"T_33a36828_5452_11ed_8193_3800253292a9row4_col3\" class=\"data row4 col3\" >0.659850</td>\n",
       "                        <td id=\"T_33a36828_5452_11ed_8193_3800253292a9row4_col4\" class=\"data row4 col4\" >0.709775</td>\n",
       "            </tr>\n",
       "    </tbody></table>"
      ],
      "text/plain": [
       "<pandas.io.formats.style.Styler at 0x7fad2b92cf60>"
      ]
     },
     "metadata": {},
     "output_type": "display_data"
    },
    {
     "data": {
      "text/html": [
       "<style  type=\"text/css\" >\n",
       "</style><table id=\"T_33a36829_5452_11ed_8193_3800253292a9\" style='display:inline'><caption>Cosinus Similarity Matrix between Versions 1 and 2</caption><thead>    <tr>        <th class=\"blank level0\" ></th>        <th class=\"col_heading level0 col0\" >trump tone</th>        <th class=\"col_heading level0 col1\" >bucking tradition</th>        <th class=\"col_heading level0 col2\" >first inaugural</th>        <th class=\"col_heading level0 col3\" >shut down</th>        <th class=\"col_heading level0 col4\" >wednesday estimating</th>    </tr></thead><tbody>\n",
       "                <tr>\n",
       "                        <th id=\"T_33a36829_5452_11ed_8193_3800253292a9level0_row0\" class=\"row_heading level0 row0\" >trump tone</th>\n",
       "                        <td id=\"T_33a36829_5452_11ed_8193_3800253292a9row0_col0\" class=\"data row0 col0\" >1.000000</td>\n",
       "                        <td id=\"T_33a36829_5452_11ed_8193_3800253292a9row0_col1\" class=\"data row0 col1\" >0.565806</td>\n",
       "                        <td id=\"T_33a36829_5452_11ed_8193_3800253292a9row0_col2\" class=\"data row0 col2\" >0.360087</td>\n",
       "                        <td id=\"T_33a36829_5452_11ed_8193_3800253292a9row0_col3\" class=\"data row0 col3\" >0.454375</td>\n",
       "                        <td id=\"T_33a36829_5452_11ed_8193_3800253292a9row0_col4\" class=\"data row0 col4\" >0.328035</td>\n",
       "            </tr>\n",
       "            <tr>\n",
       "                        <th id=\"T_33a36829_5452_11ed_8193_3800253292a9level0_row1\" class=\"row_heading level0 row1\" >bucking tradition</th>\n",
       "                        <td id=\"T_33a36829_5452_11ed_8193_3800253292a9row1_col0\" class=\"data row1 col0\" >0.565806</td>\n",
       "                        <td id=\"T_33a36829_5452_11ed_8193_3800253292a9row1_col1\" class=\"data row1 col1\" >1.000000</td>\n",
       "                        <td id=\"T_33a36829_5452_11ed_8193_3800253292a9row1_col2\" class=\"data row1 col2\" >0.523467</td>\n",
       "                        <td id=\"T_33a36829_5452_11ed_8193_3800253292a9row1_col3\" class=\"data row1 col3\" >0.490045</td>\n",
       "                        <td id=\"T_33a36829_5452_11ed_8193_3800253292a9row1_col4\" class=\"data row1 col4\" >0.353853</td>\n",
       "            </tr>\n",
       "            <tr>\n",
       "                        <th id=\"T_33a36829_5452_11ed_8193_3800253292a9level0_row2\" class=\"row_heading level0 row2\" >inaugural address</th>\n",
       "                        <td id=\"T_33a36829_5452_11ed_8193_3800253292a9row2_col0\" class=\"data row2 col0\" >0.513735</td>\n",
       "                        <td id=\"T_33a36829_5452_11ed_8193_3800253292a9row2_col1\" class=\"data row2 col1\" >0.571679</td>\n",
       "                        <td id=\"T_33a36829_5452_11ed_8193_3800253292a9row2_col2\" class=\"data row2 col2\" >0.760976</td>\n",
       "                        <td id=\"T_33a36829_5452_11ed_8193_3800253292a9row2_col3\" class=\"data row2 col3\" >0.303580</td>\n",
       "                        <td id=\"T_33a36829_5452_11ed_8193_3800253292a9row2_col4\" class=\"data row2 col4\" >0.480078</td>\n",
       "            </tr>\n",
       "            <tr>\n",
       "                        <th id=\"T_33a36829_5452_11ed_8193_3800253292a9level0_row3\" class=\"row_heading level0 row3\" >shut down</th>\n",
       "                        <td id=\"T_33a36829_5452_11ed_8193_3800253292a9row3_col0\" class=\"data row3 col0\" >0.454375</td>\n",
       "                        <td id=\"T_33a36829_5452_11ed_8193_3800253292a9row3_col1\" class=\"data row3 col1\" >0.490045</td>\n",
       "                        <td id=\"T_33a36829_5452_11ed_8193_3800253292a9row3_col2\" class=\"data row3 col2\" >0.230974</td>\n",
       "                        <td id=\"T_33a36829_5452_11ed_8193_3800253292a9row3_col3\" class=\"data row3 col3\" >1.000000</td>\n",
       "                        <td id=\"T_33a36829_5452_11ed_8193_3800253292a9row3_col4\" class=\"data row3 col4\" >0.424268</td>\n",
       "            </tr>\n",
       "            <tr>\n",
       "                        <th id=\"T_33a36829_5452_11ed_8193_3800253292a9level0_row4\" class=\"row_heading level0 row4\" >wednesday estimating</th>\n",
       "                        <td id=\"T_33a36829_5452_11ed_8193_3800253292a9row4_col0\" class=\"data row4 col0\" >0.328035</td>\n",
       "                        <td id=\"T_33a36829_5452_11ed_8193_3800253292a9row4_col1\" class=\"data row4 col1\" >0.353853</td>\n",
       "                        <td id=\"T_33a36829_5452_11ed_8193_3800253292a9row4_col2\" class=\"data row4 col2\" >0.395322</td>\n",
       "                        <td id=\"T_33a36829_5452_11ed_8193_3800253292a9row4_col3\" class=\"data row4 col3\" >0.424268</td>\n",
       "                        <td id=\"T_33a36829_5452_11ed_8193_3800253292a9row4_col4\" class=\"data row4 col4\" >1.000000</td>\n",
       "            </tr>\n",
       "    </tbody></table>"
      ],
      "text/plain": [
       "<pandas.io.formats.style.Styler at 0x7fad1b5bc240>"
      ]
     },
     "metadata": {},
     "output_type": "display_data"
    },
    {
     "data": {
      "text/html": [
       "<style  type=\"text/css\" >\n",
       "</style><table id=\"T_33a3682a_5452_11ed_8193_3800253292a9\" style='display:inline'><caption>Cosinus Similarity Matrix between Versions 1 and 3</caption><thead>    <tr>        <th class=\"blank level0\" ></th>        <th class=\"col_heading level0 col0\" >bless america</th>        <th class=\"col_heading level0 col1\" >justice roberts</th>        <th class=\"col_heading level0 col2\" >form new</th>        <th class=\"col_heading level0 col3\" >decay we</th>        <th class=\"col_heading level0 col4\" >transferring power</th>    </tr></thead><tbody>\n",
       "                <tr>\n",
       "                        <th id=\"T_33a3682a_5452_11ed_8193_3800253292a9level0_row0\" class=\"row_heading level0 row0\" >trump tone</th>\n",
       "                        <td id=\"T_33a3682a_5452_11ed_8193_3800253292a9row0_col0\" class=\"data row0 col0\" >0.665505</td>\n",
       "                        <td id=\"T_33a3682a_5452_11ed_8193_3800253292a9row0_col1\" class=\"data row0 col1\" >0.509182</td>\n",
       "                        <td id=\"T_33a3682a_5452_11ed_8193_3800253292a9row0_col2\" class=\"data row0 col2\" >0.445967</td>\n",
       "                        <td id=\"T_33a3682a_5452_11ed_8193_3800253292a9row0_col3\" class=\"data row0 col3\" >0.517913</td>\n",
       "                        <td id=\"T_33a3682a_5452_11ed_8193_3800253292a9row0_col4\" class=\"data row0 col4\" >0.532147</td>\n",
       "            </tr>\n",
       "            <tr>\n",
       "                        <th id=\"T_33a3682a_5452_11ed_8193_3800253292a9level0_row1\" class=\"row_heading level0 row1\" >bucking tradition</th>\n",
       "                        <td id=\"T_33a3682a_5452_11ed_8193_3800253292a9row1_col0\" class=\"data row1 col0\" >0.470234</td>\n",
       "                        <td id=\"T_33a3682a_5452_11ed_8193_3800253292a9row1_col1\" class=\"data row1 col1\" >0.532236</td>\n",
       "                        <td id=\"T_33a3682a_5452_11ed_8193_3800253292a9row1_col2\" class=\"data row1 col2\" >0.500318</td>\n",
       "                        <td id=\"T_33a3682a_5452_11ed_8193_3800253292a9row1_col3\" class=\"data row1 col3\" >0.610615</td>\n",
       "                        <td id=\"T_33a3682a_5452_11ed_8193_3800253292a9row1_col4\" class=\"data row1 col4\" >0.687522</td>\n",
       "            </tr>\n",
       "            <tr>\n",
       "                        <th id=\"T_33a3682a_5452_11ed_8193_3800253292a9level0_row2\" class=\"row_heading level0 row2\" >inaugural address</th>\n",
       "                        <td id=\"T_33a3682a_5452_11ed_8193_3800253292a9row2_col0\" class=\"data row2 col0\" >0.544169</td>\n",
       "                        <td id=\"T_33a3682a_5452_11ed_8193_3800253292a9row2_col1\" class=\"data row2 col1\" >0.531338</td>\n",
       "                        <td id=\"T_33a3682a_5452_11ed_8193_3800253292a9row2_col2\" class=\"data row2 col2\" >0.629482</td>\n",
       "                        <td id=\"T_33a3682a_5452_11ed_8193_3800253292a9row2_col3\" class=\"data row2 col3\" >0.419439</td>\n",
       "                        <td id=\"T_33a3682a_5452_11ed_8193_3800253292a9row2_col4\" class=\"data row2 col4\" >0.521590</td>\n",
       "            </tr>\n",
       "            <tr>\n",
       "                        <th id=\"T_33a3682a_5452_11ed_8193_3800253292a9level0_row3\" class=\"row_heading level0 row3\" >shut down</th>\n",
       "                        <td id=\"T_33a3682a_5452_11ed_8193_3800253292a9row3_col0\" class=\"data row3 col0\" >0.351418</td>\n",
       "                        <td id=\"T_33a3682a_5452_11ed_8193_3800253292a9row3_col1\" class=\"data row3 col1\" >0.446640</td>\n",
       "                        <td id=\"T_33a3682a_5452_11ed_8193_3800253292a9row3_col2\" class=\"data row3 col2\" >0.417822</td>\n",
       "                        <td id=\"T_33a3682a_5452_11ed_8193_3800253292a9row3_col3\" class=\"data row3 col3\" >0.827730</td>\n",
       "                        <td id=\"T_33a3682a_5452_11ed_8193_3800253292a9row3_col4\" class=\"data row3 col4\" >0.556115</td>\n",
       "            </tr>\n",
       "            <tr>\n",
       "                        <th id=\"T_33a3682a_5452_11ed_8193_3800253292a9level0_row4\" class=\"row_heading level0 row4\" >wednesday estimating</th>\n",
       "                        <td id=\"T_33a3682a_5452_11ed_8193_3800253292a9row4_col0\" class=\"data row4 col0\" >0.331872</td>\n",
       "                        <td id=\"T_33a3682a_5452_11ed_8193_3800253292a9row4_col1\" class=\"data row4 col1\" >0.331575</td>\n",
       "                        <td id=\"T_33a3682a_5452_11ed_8193_3800253292a9row4_col2\" class=\"data row4 col2\" >0.547308</td>\n",
       "                        <td id=\"T_33a3682a_5452_11ed_8193_3800253292a9row4_col3\" class=\"data row4 col3\" >0.493992</td>\n",
       "                        <td id=\"T_33a3682a_5452_11ed_8193_3800253292a9row4_col4\" class=\"data row4 col4\" >0.379075</td>\n",
       "            </tr>\n",
       "    </tbody></table>"
      ],
      "text/plain": [
       "<pandas.io.formats.style.Styler at 0x7fad2b92c898>"
      ]
     },
     "metadata": {},
     "output_type": "display_data"
    },
    {
     "data": {
      "text/html": [
       "<style  type=\"text/css\" >\n",
       "</style><table id=\"T_33a3682b_5452_11ed_8193_3800253292a9\" style='display:inline'><caption>Cosinus Similarity Matrix between Versions 2 and 3</caption><thead>    <tr>        <th class=\"blank level0\" ></th>        <th class=\"col_heading level0 col0\" >bless america</th>        <th class=\"col_heading level0 col1\" >justice roberts</th>        <th class=\"col_heading level0 col2\" >form new</th>        <th class=\"col_heading level0 col3\" >decay we</th>        <th class=\"col_heading level0 col4\" >transferring power</th>    </tr></thead><tbody>\n",
       "                <tr>\n",
       "                        <th id=\"T_33a3682b_5452_11ed_8193_3800253292a9level0_row0\" class=\"row_heading level0 row0\" >trump tone</th>\n",
       "                        <td id=\"T_33a3682b_5452_11ed_8193_3800253292a9row0_col0\" class=\"data row0 col0\" >0.665505</td>\n",
       "                        <td id=\"T_33a3682b_5452_11ed_8193_3800253292a9row0_col1\" class=\"data row0 col1\" >0.509182</td>\n",
       "                        <td id=\"T_33a3682b_5452_11ed_8193_3800253292a9row0_col2\" class=\"data row0 col2\" >0.445967</td>\n",
       "                        <td id=\"T_33a3682b_5452_11ed_8193_3800253292a9row0_col3\" class=\"data row0 col3\" >0.517913</td>\n",
       "                        <td id=\"T_33a3682b_5452_11ed_8193_3800253292a9row0_col4\" class=\"data row0 col4\" >0.532147</td>\n",
       "            </tr>\n",
       "            <tr>\n",
       "                        <th id=\"T_33a3682b_5452_11ed_8193_3800253292a9level0_row1\" class=\"row_heading level0 row1\" >bucking tradition</th>\n",
       "                        <td id=\"T_33a3682b_5452_11ed_8193_3800253292a9row1_col0\" class=\"data row1 col0\" >0.470234</td>\n",
       "                        <td id=\"T_33a3682b_5452_11ed_8193_3800253292a9row1_col1\" class=\"data row1 col1\" >0.532236</td>\n",
       "                        <td id=\"T_33a3682b_5452_11ed_8193_3800253292a9row1_col2\" class=\"data row1 col2\" >0.500318</td>\n",
       "                        <td id=\"T_33a3682b_5452_11ed_8193_3800253292a9row1_col3\" class=\"data row1 col3\" >0.610615</td>\n",
       "                        <td id=\"T_33a3682b_5452_11ed_8193_3800253292a9row1_col4\" class=\"data row1 col4\" >0.687522</td>\n",
       "            </tr>\n",
       "            <tr>\n",
       "                        <th id=\"T_33a3682b_5452_11ed_8193_3800253292a9level0_row2\" class=\"row_heading level0 row2\" >first inaugural</th>\n",
       "                        <td id=\"T_33a3682b_5452_11ed_8193_3800253292a9row2_col0\" class=\"data row2 col0\" >0.429571</td>\n",
       "                        <td id=\"T_33a3682b_5452_11ed_8193_3800253292a9row2_col1\" class=\"data row2 col1\" >0.345621</td>\n",
       "                        <td id=\"T_33a3682b_5452_11ed_8193_3800253292a9row2_col2\" class=\"data row2 col2\" >0.639268</td>\n",
       "                        <td id=\"T_33a3682b_5452_11ed_8193_3800253292a9row2_col3\" class=\"data row2 col3\" >0.355252</td>\n",
       "                        <td id=\"T_33a3682b_5452_11ed_8193_3800253292a9row2_col4\" class=\"data row2 col4\" >0.402888</td>\n",
       "            </tr>\n",
       "            <tr>\n",
       "                        <th id=\"T_33a3682b_5452_11ed_8193_3800253292a9level0_row3\" class=\"row_heading level0 row3\" >shut down</th>\n",
       "                        <td id=\"T_33a3682b_5452_11ed_8193_3800253292a9row3_col0\" class=\"data row3 col0\" >0.351418</td>\n",
       "                        <td id=\"T_33a3682b_5452_11ed_8193_3800253292a9row3_col1\" class=\"data row3 col1\" >0.446640</td>\n",
       "                        <td id=\"T_33a3682b_5452_11ed_8193_3800253292a9row3_col2\" class=\"data row3 col2\" >0.417822</td>\n",
       "                        <td id=\"T_33a3682b_5452_11ed_8193_3800253292a9row3_col3\" class=\"data row3 col3\" >0.827730</td>\n",
       "                        <td id=\"T_33a3682b_5452_11ed_8193_3800253292a9row3_col4\" class=\"data row3 col4\" >0.556115</td>\n",
       "            </tr>\n",
       "            <tr>\n",
       "                        <th id=\"T_33a3682b_5452_11ed_8193_3800253292a9level0_row4\" class=\"row_heading level0 row4\" >wednesday estimating</th>\n",
       "                        <td id=\"T_33a3682b_5452_11ed_8193_3800253292a9row4_col0\" class=\"data row4 col0\" >0.331872</td>\n",
       "                        <td id=\"T_33a3682b_5452_11ed_8193_3800253292a9row4_col1\" class=\"data row4 col1\" >0.331575</td>\n",
       "                        <td id=\"T_33a3682b_5452_11ed_8193_3800253292a9row4_col2\" class=\"data row4 col2\" >0.547308</td>\n",
       "                        <td id=\"T_33a3682b_5452_11ed_8193_3800253292a9row4_col3\" class=\"data row4 col3\" >0.493992</td>\n",
       "                        <td id=\"T_33a3682b_5452_11ed_8193_3800253292a9row4_col4\" class=\"data row4 col4\" >0.379075</td>\n",
       "            </tr>\n",
       "    </tbody></table>"
      ],
      "text/plain": [
       "<pandas.io.formats.style.Styler at 0x7fad2b92c550>"
      ]
     },
     "metadata": {},
     "output_type": "display_data"
    }
   ],
   "source": [
    "show_cosine_similarities(keywords_bert, bert_embeddings)"
   ]
  },
  {
   "cell_type": "code",
   "execution_count": null,
   "id": "85b4db95",
   "metadata": {},
   "outputs": [],
   "source": []
  }
 ],
 "metadata": {
  "kernelspec": {
   "display_name": "Python 3",
   "language": "python",
   "name": "python3"
  },
  "language_info": {
   "codemirror_mode": {
    "name": "ipython",
    "version": 3
   },
   "file_extension": ".py",
   "mimetype": "text/x-python",
   "name": "python",
   "nbconvert_exporter": "python",
   "pygments_lexer": "ipython3",
   "version": "3.6.9"
  }
 },
 "nbformat": 4,
 "nbformat_minor": 5
}
